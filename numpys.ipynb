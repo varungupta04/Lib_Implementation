{
 "cells": [
  {
   "cell_type": "code",
   "execution_count": 4,
   "metadata": {},
   "outputs": [
    {
     "name": "stdout",
     "output_type": "stream",
     "text": [
      "Traceback (most recent call last):\n",
      "  File \"/Library/Frameworks/Python.framework/Versions/3.10/lib/python3.10/runpy.py\", line 196, in _run_module_as_main\n",
      "    return _run_code(code, main_globals, None,\n",
      "  File \"/Library/Frameworks/Python.framework/Versions/3.10/lib/python3.10/runpy.py\", line 86, in _run_code\n",
      "    exec(code, run_globals)\n",
      "  File \"/Library/Frameworks/Python.framework/Versions/3.10/lib/python3.10/site-packages/pip/__main__.py\", line 9, in <module>\n",
      "    if sys.path[0] in (\"\", os.getcwd()):\n",
      "PermissionError: [Errno 1] Operation not permitted\n",
      "Note: you may need to restart the kernel to use updated packages.\n"
     ]
    }
   ],
   "source": [
    "pip install numpy"
   ]
  },
  {
   "cell_type": "markdown",
   "id": "85f35572",
   "metadata": {},
   "source": []
  },
  {
   "cell_type": "code",
   "execution_count": 5,
   "id": "bfd2cb9b",
   "metadata": {},
   "outputs": [],
   "source": [
    "import numpy as np"
   ]
  },
  {
   "cell_type": "code",
   "execution_count": 6,
   "id": "5c5eb9df",
   "metadata": {},
   "outputs": [],
   "source": [
    "data = np.random.rand(2,3,4)\n",
    "#the shape is in the bracket"
   ]
  },
  {
   "cell_type": "code",
   "execution_count": 7,
   "id": "84dd2405",
   "metadata": {},
   "outputs": [
    {
     "data": {
      "text/plain": [
       "array([[[0.46593925, 0.30443221, 0.3975952 , 0.51200312],\n",
       "        [0.68812814, 0.58120092, 0.73745315, 0.4889169 ],\n",
       "        [0.35241031, 0.35594832, 0.11511485, 0.07879824]],\n",
       "\n",
       "       [[0.80733593, 0.24122712, 0.75696663, 0.64993889],\n",
       "        [0.93817447, 0.89036254, 0.51819345, 0.85084378],\n",
       "        [0.46051214, 0.23137149, 0.23678876, 0.70749523]]])"
      ]
     },
     "execution_count": 7,
     "metadata": {},
     "output_type": "execute_result"
    }
   ],
   "source": [
    "data"
   ]
  },
  {
   "cell_type": "code",
   "execution_count": 12,
   "id": "218a4a13",
   "metadata": {},
   "outputs": [],
   "source": [
    "zeros = np.zeros([2,2,2])\n",
    "full = np.full([2,2,2] ,7)\n",
    "ones = np.ones([2,2,2])\n",
    "\n",
    "#the data can not be in  the same memory space as zeros and full arrays "
   ]
  },
  {
   "cell_type": "code",
   "execution_count": 13,
   "id": "9dbd68fb",
   "metadata": {},
   "outputs": [
    {
     "data": {
      "text/plain": [
       "numpy.ndarray"
      ]
     },
     "execution_count": 13,
     "metadata": {},
     "output_type": "execute_result"
    }
   ],
   "source": [
    "type(zeros)"
   ]
  },
  {
   "cell_type": "code",
   "execution_count": 16,
   "id": "9804888c",
   "metadata": {},
   "outputs": [],
   "source": [
    "shape = data.shape\n",
    "size = data.size\n",
    "types = data.dtype\n",
    "\n",
    "#they are not array values so do not  use bracket in the end of syntax\n"
   ]
  },
  {
   "cell_type": "code",
   "execution_count": 18,
   "id": "a9e5d35a",
   "metadata": {},
   "outputs": [
    {
     "data": {
      "text/plain": [
       "array([0.46593925, 0.30443221, 0.3975952 , 0.51200312])"
      ]
     },
     "execution_count": 18,
     "metadata": {},
     "output_type": "execute_result"
    }
   ],
   "source": [
    "\n",
    "arr = data[0]\n",
    "slicer = data[0][0:2] #this is for grabbing the specfic poitns we want \n",
    "reverse = data[-1]\n",
    "singleval = data[0][0]\n",
    "singleval\n"
   ]
  },
  {
   "cell_type": "code",
   "execution_count": 19,
   "id": "32237f32",
   "metadata": {},
   "outputs": [],
   "source": [
    "list1 = np.random.rand(10)\n",
    "list2 = np.random.rand(10)\n"
   ]
  },
  {
   "cell_type": "code",
   "execution_count": 22,
   "id": "e7556c4b",
   "metadata": {},
   "outputs": [
    {
     "data": {
      "text/plain": [
       "2.1040692325682064"
      ]
     },
     "execution_count": 22,
     "metadata": {},
     "output_type": "execute_result"
    }
   ],
   "source": [
    "add = np.add(list1,list2)\n",
    "dot = np.dot(list2,list1)\n",
    "dot\n",
    "\n",
    "#rest all multiplication and all are the same  as dot product\n",
    "\n",
    "#the following are the other functions of the  numpy library that we will use in this : sqrt,abs,power,log,exo,min,max \n"
   ]
  },
  {
   "cell_type": "code",
   "execution_count": 27,
   "id": "93fdaa12",
   "metadata": {},
   "outputs": [],
   "source": [
    "data[0][0][0] = 700"
   ]
  },
  {
   "cell_type": "code",
   "execution_count": 24,
   "id": "6bfca5d7",
   "metadata": {},
   "outputs": [],
   "source": [
    "data.sort()"
   ]
  },
  {
   "cell_type": "code",
   "execution_count": 28,
   "id": "e404a3f1",
   "metadata": {},
   "outputs": [
    {
     "data": {
      "text/plain": [
       "array([[[7.00000000e+02, 3.97595203e-01, 4.65939255e-01, 5.12003117e-01],\n",
       "        [4.88916901e-01, 5.81200916e-01, 6.88128144e-01, 7.37453149e-01],\n",
       "        [7.87982363e-02, 1.15114850e-01, 3.52410310e-01, 3.55948323e-01]],\n",
       "\n",
       "       [[2.41227122e-01, 6.49938887e-01, 7.56966633e-01, 8.07335927e-01],\n",
       "        [5.18193455e-01, 8.50843781e-01, 8.90362538e-01, 9.38174465e-01],\n",
       "        [2.31371485e-01, 2.36788755e-01, 4.60512137e-01, 7.07495229e-01]]])"
      ]
     },
     "execution_count": 28,
     "metadata": {},
     "output_type": "execute_result"
    }
   ],
   "source": [
    "data"
   ]
  },
  {
   "cell_type": "code",
   "execution_count": 33,
   "id": "6171f101",
   "metadata": {},
   "outputs": [
    {
     "data": {
      "text/plain": [
       "array([0., 0., 1., 0., 0., 0., 0., 0., 0., 3., 4., 3., 4., 3., 4., 3., 4.,\n",
       "       3., 4.])"
      ]
     },
     "execution_count": 33,
     "metadata": {},
     "output_type": "execute_result"
    }
   ],
   "source": [
    "zeros = np.append(zeros,[3,4])\n",
    "zeros = np.insert(zeros , 2 , 1)\n",
    "zeros"
   ]
  },
  {
   "cell_type": "code",
   "execution_count": 34,
   "id": "d48458b0",
   "metadata": {},
   "outputs": [
    {
     "data": {
      "text/plain": [
       "array([[[0.4889169 , 0.58120092, 0.68812814, 0.73745315],\n",
       "        [0.07879824, 0.11511485, 0.35241031, 0.35594832]],\n",
       "\n",
       "       [[0.51819345, 0.85084378, 0.89036254, 0.93817447],\n",
       "        [0.23137149, 0.23678876, 0.46051214, 0.70749523]]])"
      ]
     },
     "execution_count": 34,
     "metadata": {},
     "output_type": "execute_result"
    }
   ],
   "source": [
    "np.delete(data,0,axis = 1)"
   ]
  },
  {
   "cell_type": "code",
   "execution_count": 35,
   "id": "8981468d",
   "metadata": {},
   "outputs": [],
   "source": [
    "np.save(\"data\",data)"
   ]
  },
  {
   "cell_type": "code",
   "execution_count": null,
   "id": "38c5a103",
   "metadata": {},
   "outputs": [],
   "source": []
  }
 ],
 "metadata": {
  "kernelspec": {
   "display_name": "Python 3",
   "language": "python",
   "name": "python3"
  },
  "language_info": {
   "codemirror_mode": {
    "name": "ipython",
    "version": 3
   },
   "file_extension": ".py",
   "mimetype": "text/x-python",
   "name": "python",
   "nbconvert_exporter": "python",
   "pygments_lexer": "ipython3",
   "version": "3.10.2"
  }
 },
 "nbformat": 4,
 "nbformat_minor": 5
}
